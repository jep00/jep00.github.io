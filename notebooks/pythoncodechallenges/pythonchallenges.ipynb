{
 "cells": [
  {
   "cell_type": "markdown",
   "metadata": {},
   "source": [
    "# Python Code Challenges\n",
    "\n",
    "These challenges are taken from [LinkedIn Learning](https://www.linkedin.com/learning/python-code-challenges)\n",
    "\n",
    "## Challenge 1. Find Prime Factors\n",
    "\n",
    "The first challenge is to create a function that returns the prime factors of an inputted number in a list. If prime (e.g. 13), only that value is returned (`[13]`).  "
   ]
  },
  {
   "cell_type": "code",
   "execution_count": 25,
   "metadata": {},
   "outputs": [
    {
     "name": "stdout",
     "output_type": "stream",
     "text": [
      "[2, 2, 5, 5]\n",
      "[13]\n",
      "[2, 2, 2, 2, 5, 13]\n"
     ]
    }
   ],
   "source": [
    "def primeFactors(x):\n",
    "    factors = []\n",
    "    y = 2 #Our first divisor\n",
    "    while(y <= x):\n",
    "        if (x % y) == 0:\n",
    "            factors.append(y)\n",
    "            x = x/y\n",
    "        else:\n",
    "            y += 1\n",
    "    return factors\n",
    "\n",
    "print(primeFactors(100))\n",
    "print(primeFactors(13))\n",
    "print(primeFactors(1040))"
   ]
  },
  {
   "cell_type": "markdown",
   "metadata": {},
   "source": [
    "## Challenge 2. Palindrome\n",
    "\n",
    "Write a Python function to determine if a given string is a palindrome"
   ]
  },
  {
   "cell_type": "code",
   "execution_count": 30,
   "metadata": {},
   "outputs": [
    {
     "name": "stdout",
     "output_type": "stream",
     "text": [
      "False\n",
      "True\n"
     ]
    }
   ],
   "source": [
    "def isPalindrome(x):\n",
    "    x = x.lower()\n",
    "    x.replace(\" \", \"\") #Remove spaces\n",
    "    x = list(x.lower()) #Convert to list\n",
    "    y = x[::-1]\n",
    "    if x==y:\n",
    "        return True\n",
    "    else:\n",
    "        return False\n",
    "    \n",
    "print(isPalindrome(\"Hello\"))\n",
    "print(isPalindrome(\"ABcCba\"))"
   ]
  },
  {
   "cell_type": "code",
   "execution_count": null,
   "metadata": {},
   "outputs": [],
   "source": []
  }
 ],
 "metadata": {
  "kernelspec": {
   "display_name": "Python 3",
   "language": "python",
   "name": "python3"
  },
  "language_info": {
   "codemirror_mode": {
    "name": "ipython",
    "version": 3
   },
   "file_extension": ".py",
   "mimetype": "text/x-python",
   "name": "python",
   "nbconvert_exporter": "python",
   "pygments_lexer": "ipython3",
   "version": "3.8.5"
  }
 },
 "nbformat": 4,
 "nbformat_minor": 4
}
